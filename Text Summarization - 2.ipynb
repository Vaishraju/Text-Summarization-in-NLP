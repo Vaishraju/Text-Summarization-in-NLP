{
 "cells": [
  {
   "cell_type": "code",
   "execution_count": 26,
   "id": "7f21fc30",
   "metadata": {},
   "outputs": [],
   "source": [
    "#import required modules\n",
    "from bs4 import BeautifulSoup\n",
    "from nltk.tokenize import word_tokenize, sent_tokenize\n",
    "from nltk.corpus import stopwords\n",
    "from nltk.probability import FreqDist\n",
    "from nltk.util import ngrams\n",
    "import bs4 as bs\n",
    "import urllib.request\n",
    "import requests\n",
    "import string # for checking punctuations\n",
    "import matplotlib.pyplot as plt"
   ]
  },
  {
   "cell_type": "code",
   "execution_count": 27,
   "id": "2df6d6f4",
   "metadata": {},
   "outputs": [
    {
     "name": "stdout",
     "output_type": "stream",
     "text": [
      "Natural language processing (NLP) is a subfield of linguistics, computer science, and artificial intelligence concerned with the interactions between computers and human language, in particular how to program computers to process and analyze large amounts of natural language data.  The goal is a computer capable of \"understanding\" the contents of documents, including the contextual nuances of the language within them. The technology can then accurately extract information and insights contained in the documents as well as categorize and organize the documents themselves.\n",
      "\n",
      "Challenges in natural language processing frequently involve speech recognition, natural-language understanding, and natural-language generation.\n",
      "\n",
      "Natural language processing has its roots in the 1950s. Already in 1950, Alan Turing published an article titled \"Computing Machinery and Intelligence\" which proposed what is now called the Turing test as a criterion of intelligence, though at the time that was not articulated as a problem separate from artificial intelligence. The proposed test includes a task that involves the automated interpretation and generation of natural language.\n",
      "\n",
      "The premise of symbolic NLP is well-summarized by John Searle's Chinese room experiment: Given a collection of rules (e.g., a Chinese phrasebook, with questions and matching answers), the computer emulates natural language understanding (or other NLP tasks) by applying those rules to the data it confronts.\n",
      "\n",
      "Up to the 1980s, most natural language processing systems were based on complex sets of hand-written rules.  Starting in the late 1980s, however, there was a revolution in natural language processing with the introduction of machine learning algorithms for language processing.  This was due to both the steady increase in computational power (see Moore's law) and the gradual lessening of the dominance of Chomskyan theories of linguistics (e.g. transformational grammar), whose theoretical underpinnings discouraged the sort of corpus linguistics that underlies the machine-learning approach to language processing.[6]\n",
      "\n",
      "In the 2010s, representation learning and deep neural network-style machine learning methods became widespread in natural language processing. That popularity was due partly to a flurry of results showing that such techniques[7][8] can achieve state-of-the-art results in many natural language tasks, e.g., in language modeling[9] and parsing.[10][11] This is increasingly important in medicine and healthcare, where NLP helps analyze notes and text in electronic health records that would otherwise be inaccessible for study when seeking to improve care.[12]\n",
      "\n",
      "In the early days, many language-processing systems were designed by symbolic methods, i.e., the hand-coding of a set of rules, coupled with a dictionary lookup:[13][14] such as by writing grammars or devising heuristic rules for stemming.\n",
      "\n",
      "More recent systems based on machine-learning algorithms have many advantages over hand-produced rules: \n",
      "\n",
      "Despite the popularity of machine learning in NLP research, symbolic methods are still (2020) commonly used:\n",
      "\n",
      "Since the so-called \"statistical revolution\"[15][16] in the late 1980s and mid-1990s, much natural language processing research has relied heavily on machine learning. The machine-learning paradigm calls instead for using statistical inference to automatically learn such rules through the analysis of large corpora (the plural form of corpus, is a set of documents, possibly with human or computer annotations) of typical real-world examples.\n",
      "\n",
      "Many different classes of machine-learning algorithms have been applied to natural-language-processing tasks. These algorithms take as input a large set of \"features\" that are generated from the input data. Increasingly, however, research has focused on statistical models, which make soft, probabilistic decisions based on attaching real-valued weights to each input feature (complex-valued embeddings,[17] and neural networks in general have also been proposed, for e.g. speech[18]). Such models have the advantage that they can express the relative certainty of many different possible answers rather than only one, producing more reliable results when such a model is included as a component of a larger system.\n",
      "\n",
      "Some of the earliest-used machine learning algorithms, such as decision trees, produced systems of hard if-then rules similar to existing hand-written rules.  However, part-of-speech tagging introduced the use of hidden Markov models to natural language processing, and increasingly, research has focused on statistical models, which make soft, probabilistic decisions based on attaching real-valued weights to the features making up the input data. The cache language models upon which many speech recognition systems now rely are examples of such statistical models.  Such models are generally more robust when given unfamiliar input, especially input that contains errors (as is very common for real-world data), and ...\n"
     ]
    }
   ],
   "source": [
    "def scrape_webpage(url):\n",
    "  connection = urllib.request.urlopen(url)\n",
    "\n",
    "\n",
    "  data = connection.read()\n",
    "\n",
    "\n",
    "  parsed = bs.BeautifulSoup(data, 'lxml')\n",
    "\n",
    "\n",
    "  paragraphs = parsed.find_all('p')\n",
    "\n",
    "  text = [p.text for p in paragraphs]\n",
    "\n",
    "\n",
    "  text = '\\n'.join(text)\n",
    "  return text\n",
    "\n",
    "url = 'https://en.wikipedia.org/wiki/Natural_language_processing'\n",
    "\n",
    "text = scrape_webpage(url)\n",
    "\n",
    "print(text[:5000], '...')"
   ]
  },
  {
   "cell_type": "code",
   "execution_count": 28,
   "id": "a4d2f4a8",
   "metadata": {},
   "outputs": [
    {
     "name": "stdout",
     "output_type": "stream",
     "text": [
      "['natural language processing', 'language processing (', 'processing ( nlp', '( nlp )', 'nlp ) is', ') is a', 'is a subfield', 'a subfield of', 'subfield of linguistics', 'of linguistics ,', 'linguistics , computer', ', computer science', 'computer science ,', 'science , and', ', and artificial', 'and artificial intelligence', 'artificial intelligence concerned', 'intelligence concerned with', 'concerned with the', 'with the interactions', 'the interactions between', 'interactions between computers', 'between computers and', 'computers and human', 'and human language', 'human language ,', 'language , in', ', in particular', 'in particular how', 'particular how to', 'how to program', 'to program computers', 'program computers to', 'computers to process', 'to process and', 'process and analyze', 'and analyze large', 'analyze large amounts', 'large amounts of', 'amounts of natural', 'of natural language', 'natural language data', 'language data .', 'the goal is', 'goal is a', 'is a computer', 'a computer capable', 'computer capable of', 'capable of ``', 'of `` understanding']\n"
     ]
    }
   ],
   "source": [
    "def get_sentences(text):\n",
    "    sentence_list = sent_tokenize(text)\n",
    "    return sentence_list\n",
    "def generate_ngrams(text,n):\n",
    "    sentence_list = get_sentences(text)\n",
    "    ngrams_list = []\n",
    "    for sentence in sentence_list:\n",
    "        ngrams_list.extend(list(ngrams(word_tokenize(sentence.lower()), n)))\n",
    "    return [' '.join(grams) for grams in ngrams_list]\n",
    "\n",
    "n = 3\n",
    "res = generate_ngrams(text, n)\n",
    "print(res[0:50])"
   ]
  },
  {
   "cell_type": "code",
   "execution_count": 29,
   "id": "c201f2ae",
   "metadata": {},
   "outputs": [
    {
     "data": {
      "text/plain": [
       "[('natural language processing', 1.0),\n",
       " ('language processing .', 0.4166666666666667),\n",
       " ('in natural language', 0.3333333333333333),\n",
       " ('( e.g. ,', 0.3333333333333333),\n",
       " ('of natural language', 0.25),\n",
       " (', however ,', 0.25),\n",
       " ('] in the', 0.25),\n",
       " (', e.g. ,', 0.25),\n",
       " ('grammar , [', 0.25),\n",
       " ('language processing (', 0.16666666666666666),\n",
       " ('processing ( nlp', 0.16666666666666666),\n",
       " ('( nlp )', 0.16666666666666666),\n",
       " ('of linguistics ,', 0.16666666666666666),\n",
       " ('of documents ,', 0.16666666666666666),\n",
       " ('natural language .', 0.16666666666666666),\n",
       " ('of symbolic nlp', 0.16666666666666666),\n",
       " ('hand-written rules .', 0.16666666666666666),\n",
       " ('in the late', 0.16666666666666666),\n",
       " ('the late 1980s', 0.16666666666666666),\n",
       " ('of machine learning', 0.16666666666666666)]"
      ]
     },
     "execution_count": 29,
     "metadata": {},
     "output_type": "execute_result"
    }
   ],
   "source": [
    "import nltk\n",
    "def get_ngram_frequency(text, n):\n",
    "    ngrams_list = generate_ngrams(text, n)\n",
    "    fdist = FreqDist(ngrams_list)\n",
    "    freq_dict = {}\n",
    "    for k in fdist.keys():\n",
    "        freq_dict[k] = fdist[k]\n",
    "    freq_dict = sorted(freq_dict.items(), key = lambda kv: kv[1], reverse = True)\n",
    "    return freq_dict\n",
    "ngram_freq_dict = get_ngram_frequency(text, n)\n",
    "ngram_freq_dict[0:15]\n",
    "import matplotlib.pyplot as plt\n",
    "\n",
    "def get_ngram_weight_freq(text, n):\n",
    "\n",
    "    ngrams_list = generate_ngrams(text, n)\n",
    "    fdist = FreqDist(ngrams_list)\n",
    "    dist = {}\n",
    "    for k in fdist.keys():\n",
    "        dist[k] = fdist[k]\n",
    "    dist = sorted(dist.items(), key = lambda kv: kv[1], reverse = True)\n",
    "    disttemp = list(dist)\n",
    "    top_frequency = disttemp[0][1]\n",
    "    dist = dict(dist)\n",
    "    weighted_dist = {}\n",
    "    for k in dist:\n",
    "        weighted_dist[k] = dist[k]*1.0/top_frequency \n",
    "    weighted_dist = sorted(weighted_dist.items(), key = lambda kv: kv[1], reverse = True)\n",
    "    return weighted_dist\n",
    "weighted_ngram_dist = get_ngram_weight_freq(text, n)\n",
    "weighted_ngram_dist[0:20]"
   ]
  },
  {
   "cell_type": "code",
   "execution_count": 30,
   "id": "5a542ae7",
   "metadata": {},
   "outputs": [
    {
     "name": "stdout",
     "output_type": "stream",
     "text": [
      "['Natural language processing (NLP) is a subfield of linguistics, computer science, and artificial intelligence concerned with the interactions between computers and human language, in particular how to program computers to process and analyze large amounts of natural language data.', 'The goal is a computer capable of \"understanding\" the contents of documents, including the contextual nuances of the language within them.', 'The technology can then accurately extract information and insights contained in the documents as well as categorize and organize the documents themselves.', 'Challenges in natural language processing frequently involve speech recognition, natural-language understanding, and natural-language generation.', 'Natural language processing has its roots in the 1950s.', 'Already in 1950, Alan Turing published an article titled \"Computing Machinery and Intelligence\" which proposed what is now called the Turing test as a criterion of intelligence, though at the time that was not articulated as a problem separate from artificial intelligence.', 'The proposed test includes a task that involves the automated interpretation and generation of natural language.', \"The premise of symbolic NLP is well-summarized by John Searle's Chinese room experiment: Given a collection of rules (e.g., a Chinese phrasebook, with questions and matching answers), the computer emulates natural language understanding (or other NLP tasks) by applying those rules to the data it confronts.\", 'Up to the 1980s, most natural language processing systems were based on complex sets of hand-written rules.', 'Starting in the late 1980s, however, there was a revolution in natural language processing with the introduction of machine learning algorithms for language processing.', \"This was due to both the steady increase in computational power (see Moore's law) and the gradual lessening of the dominance of Chomskyan theories of linguistics (e.g.\", 'transformational grammar), whose theoretical underpinnings discouraged the sort of corpus linguistics that underlies the machine-learning approach to language processing.', '[6]\\n\\nIn the 2010s, representation learning and deep neural network-style machine learning methods became widespread in natural language processing.', 'That popularity was due partly to a flurry of results showing that such techniques[7][8] can achieve state-of-the-art results in many natural language tasks, e.g., in language modeling[9] and parsing.', '[10][11] This is increasingly important in medicine and healthcare, where NLP helps analyze notes and text in electronic health records that would otherwise be inaccessible for study when seeking to improve care.', '[12]\\n\\nIn the early days, many language-processing systems were designed by symbolic methods, i.e., the hand-coding of a set of rules, coupled with a dictionary lookup:[13][14] such as by writing grammars or devising heuristic rules for stemming.', 'More recent systems based on machine-learning algorithms have many advantages over hand-produced rules: \\n\\nDespite the popularity of machine learning in NLP research, symbolic methods are still (2020) commonly used:\\n\\nSince the so-called \"statistical revolution\"[15][16] in the late 1980s and mid-1990s, much natural language processing research has relied heavily on machine learning.', 'The machine-learning paradigm calls instead for using statistical inference to automatically learn such rules through the analysis of large corpora (the plural form of corpus, is a set of documents, possibly with human or computer annotations) of typical real-world examples.', 'Many different classes of machine-learning algorithms have been applied to natural-language-processing tasks.', 'These algorithms take as input a large set of \"features\" that are generated from the input data.', 'Increasingly, however, research has focused on statistical models, which make soft, probabilistic decisions based on attaching real-valued weights to each input feature (complex-valued embeddings,[17] and neural networks in general have also been proposed, for e.g.', 'speech[18]).', 'Such models have the advantage that they can express the relative certainty of many different possible answers rather than only one, producing more reliable results when such a model is included as a component of a larger system.', 'Some of the earliest-used machine learning algorithms, such as decision trees, produced systems of hard if-then rules similar to existing hand-written rules.', 'However, part-of-speech tagging introduced the use of hidden Markov models to natural language processing, and increasingly, research has focused on statistical models, which make soft, probabilistic decisions based on attaching real-valued weights to the features making up the input data.', 'The cache language models upon which many speech recognition systems now rely are examples of such statistical models.', 'Such models are generally more robust when given unfamiliar input, especially input that contains errors (as is very common for real-world data), and produce more reliable results when integrated into a larger system comprising multiple subtasks.', 'Since the neural turn, statistical methods in NLP research have been largely replaced by neural networks.', 'However, they continue to be relevant for contexts in which statistical interpretability and transparency is required.', 'A major drawback of statistical methods is that they require elaborate feature engineering.', 'Since 2015,[19] the field has thus largely abandoned statistical methods and shifted to neural networks for machine learning.', 'Popular techniques include the use of word embeddings to capture semantic properties of words, and an increase in end-to-end learning of a higher-level task (e.g., question answering) instead of relying on a pipeline of separate intermediate tasks (e.g., part-of-speech tagging and dependency parsing).', 'In some areas, this shift has entailed substantial changes in how NLP systems are designed, such that deep neural network-based approaches may be viewed as a new paradigm distinct from statistical natural language processing.', 'For instance, the term neural machine translation (NMT) emphasizes the fact that deep learning-based approaches to machine translation directly learn sequence-to-sequence transformations, obviating the need for intermediate steps such as word alignment and language modeling that was used in statistical machine translation (SMT).', 'The following is a list of some of the most commonly researched tasks in natural language processing.', 'Some of these tasks have direct real-world applications, while others more commonly serve as subtasks that are used to aid in solving larger tasks.', 'Though natural language processing tasks are closely intertwined, they can be subdivided into categories for convenience.', 'A coarse division is given below.', 'Based on long-standing trends in the field, it is possible to extrapolate future directions of NLP.', 'As of 2020, three trends among the topics of the long-standing series of CoNLL Shared Tasks can be observed:[38]\\n\\nMost higher-level NLP applications involve aspects that emulate intelligent behaviour and apparent comprehension of natural language.', 'More broadly speaking, the technical operationalization of increasingly advanced aspects of cognitive behaviour represents one of the developmental trajectories of NLP (see trends among CoNLL shared tasks above).', 'Cognition refers to \"the mental action or process of acquiring knowledge and understanding through thought, experience, and the senses.', '\"[39] Cognitive science is the interdisciplinary, scientific study of the mind and its processes.', '[40] Cognitive linguistics is an interdisciplinary branch of linguistics, combining knowledge and research from both psychology and linguistics.', '[41] Especially during the age of symbolic NLP, the area of computational linguistics maintained strong ties with cognitive studies.', 'As an example, George Lakoff offers a methodology to build natural language processing (NLP) algorithms through the perspective of cognitive science, along with the findings of cognitive linguistics,[42] with two defining aspects:\\n\\nTies with cognitive linguistics are part of the historical heritage of NLP, but they have been less frequently addressed since the statistical turn during the 1990s.', 'Nevertheless, approaches to develop cognitive models towards technically operationalizable frameworks have been pursued in the context of various frameworks, e.g., of cognitive grammar,[44] functional grammar,[45] construction grammar,[46] computational psycholinguistics and cognitive neuroscience (e.g., ACT-R), however, with limited uptake in mainstream NLP (as measured by presence on major conferences[47] of the ACL).', 'More recently, ideas of cognitive NLP have been revived as an approach to achieve explainability, e.g., under the notion of \"cognitive AI\".', '[48] Likewise, ideas of cognitive NLP are inherent to neural models multimodal NLP (although rarely made explicit).', '[49]'] 0.0\n"
     ]
    }
   ],
   "source": [
    "def sentence_scores(sent_tokens, ngram_freqs, n_grams):\n",
    "    score = 0\n",
    "    for wpair in n_grams:\n",
    "        if wpair in ngram_freqs: \n",
    "            score += ngram_freqs[wpair]\n",
    "    score = score / len(n_grams)\n",
    "    return score\n",
    "sentence_list = get_sentences(text)\n",
    "sent_tokens = word_tokenize(sentence_list[0].lower())\n",
    "n_grams = generate_ngrams(sentence_list[0],n)\n",
    "score_1 = sentence_scores(sent_tokens, weighted_ngram_dist,n_grams)\n",
    "print(sentence_list,score_1)"
   ]
  },
  {
   "cell_type": "code",
   "execution_count": 31,
   "id": "890ae6a6",
   "metadata": {},
   "outputs": [
    {
     "name": "stdout",
     "output_type": "stream",
     "text": [
      " Natural language processing has its roots in the 1950s. The following is a list of some of the most commonly researched tasks in natural language processing. Starting in the late 1980s, however, there was a revolution in natural language processing with the introduction of machine learning algorithms for language processing.\n",
      "Summary using 20 most frequent words:\n",
      " Natural language processing has its roots in the 1950s. The following is a list of some of the most commonly researched tasks in natural language processing. Starting in the late 1980s, however, there was a revolution in natural language processing with the introduction of machine learning algorithms for language processing.\n"
     ]
    }
   ],
   "source": [
    "def rank_sentences(sentence_list, ngram_freq_dict, n):\n",
    "    rank_list = []\n",
    "    for sentence in sentence_list:\n",
    "        sent_tokens = word_tokenize(sentence)\n",
    "        sentence_ngram = generate_ngrams(sentence, n)\n",
    "        score = sentence_scores(sent_tokens, ngram_freq_dict, sentence_ngram)\n",
    "\n",
    "        rank_list.append([sentence,score])\n",
    "    rank_list = sorted(rank_list, key=lambda x: x[1], reverse = True)\n",
    "    return rank_list\n",
    "\n",
    "def webpage_summary_ngram(text, ngram_freq_dict, n, nr_sentence , nr_tokens):\n",
    "    sentence_list = get_sentences(text)\n",
    "    top_freq_dict = dict(list(ngram_freq_dict)[0:nr_tokens])\n",
    "    ranked_sentence_list = rank_sentences(sentence_list,top_freq_dict, n)\n",
    "    summary = \"\"\n",
    "    for i in range(nr_sentence):\n",
    "        summary = summary+\" \"+ranked_sentence_list[i][0]\n",
    "    return summary\n",
    "nr_sentence = 3\n",
    "nr_tokens = len(weighted_ngram_dist) \n",
    "summary = webpage_summary_ngram(text, weighted_ngram_dist, n, nr_sentence, nr_tokens)\n",
    "print(summary)\n",
    "\n",
    "\n",
    "print(\"Summary using 20 most frequent words:\")\n",
    "\n",
    "nr_sentence = 3\n",
    "nr_tokens = 20 # using top k tokens\n",
    "summary = webpage_summary_ngram(text, weighted_ngram_dist, n, nr_sentence, nr_tokens)\n",
    "print(summary)"
   ]
  }
 ],
 "metadata": {
  "kernelspec": {
   "display_name": "Python 3 (ipykernel)",
   "language": "python",
   "name": "python3"
  },
  "language_info": {
   "codemirror_mode": {
    "name": "ipython",
    "version": 3
   },
   "file_extension": ".py",
   "mimetype": "text/x-python",
   "name": "python",
   "nbconvert_exporter": "python",
   "pygments_lexer": "ipython3",
   "version": "3.9.13"
  }
 },
 "nbformat": 4,
 "nbformat_minor": 5
}
