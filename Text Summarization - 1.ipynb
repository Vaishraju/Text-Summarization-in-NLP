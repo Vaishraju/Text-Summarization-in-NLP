{
 "cells": [
  {
   "cell_type": "markdown",
   "id": "845d2089",
   "metadata": {},
   "source": [
    "# Text Summarization of the Webpage\n"
   ]
  },
  {
   "cell_type": "markdown",
   "id": "d74e0659",
   "metadata": {},
   "source": [
    "### TASK-01"
   ]
  },
  {
   "cell_type": "code",
   "execution_count": 1,
   "id": "d1fc0708",
   "metadata": {},
   "outputs": [],
   "source": [
    "import bs4 as bs\n",
    "import urllib.request\n",
    "import sys\n",
    "import re\n",
    "import nltk\n",
    "from sklearn.feature_extraction.text import TfidfVectorizer\n",
    "#import spacy\n",
    "import pandas as pd\n",
    "import numpy as np\n",
    "import string\n",
    "from nltk.stem import WordNetLemmatizer\n",
    "from nltk.tokenize import RegexpTokenizer\n",
    "from nltk.tokenize import word_tokenize\n",
    "from nltk.tokenize import sent_tokenize\n",
    "from nltk.probability import FreqDist\n",
    "from nltk.corpus import stopwords"
   ]
  },
  {
   "cell_type": "code",
   "execution_count": 2,
   "id": "2501586b",
   "metadata": {},
   "outputs": [],
   "source": [
    "def scrape_webpage(url):\n",
    "  '''\n",
    "  Function for scraping webpage\n",
    "  '''\n",
    "  # Open connection\n",
    "  connection = urllib.request.urlopen(url)\n",
    "\n",
    "  # Read data\n",
    "  data = connection.read()\n",
    "\n",
    "  # Parse xml\n",
    "  parsed = bs.BeautifulSoup(data, 'lxml')\n",
    "\n",
    "  # Get paragraphs\n",
    "  paragraphs = parsed.find_all('p')\n",
    "\n",
    "  # Get text from paragraphs\n",
    "  text = [p.text for p in paragraphs]\n",
    "\n",
    "  # Merge paragraph text into single string\n",
    "  text = '\\n'.join(text)\n",
    "  return text"
   ]
  },
  {
   "cell_type": "markdown",
   "id": "c7f85621",
   "metadata": {},
   "source": [
    "#### 1.1  Web Scraping "
   ]
  },
  {
   "cell_type": "code",
   "execution_count": 3,
   "id": "4e2024b0",
   "metadata": {},
   "outputs": [
    {
     "name": "stdout",
     "output_type": "stream",
     "text": [
      "\n",
      "Profile\n",
      "Sections\n",
      "tv\n",
      "Featured\n",
      "More From NBC\n",
      "Follow NBC News\n",
      "HONG KONG — After mass unrest in 2019, a pandemic that left it isolated from the world and the imposition of a national security law that has crushed dissent, Hong Kong is ready to turn the page. \n",
      "“Social disturbance is clearly in the past,” the city’s leader, John Lee, said Wednesday at the Four Seasons Hotel, where about 200 finance industry executives from around the world were gathered for a summit. “It has given way to stability, to growing business and community confidence in Hong Kong’s future. Law and order has returned; the worst is behind us.”\n",
      "But the summit — meant to signal that the Chinese territory long known as a regional financial powerhouse is again open for business — has been shadowed by some awkward realities. \n",
      "Hong Kong’s border with mainland China, its main economic driver, remains tightly closed because of pandemic restrictions. Participants in the summit, many of them American companies, have been criticized by rights groups and lawmakers who say they are complicit in China’s harsh crackdown on pro-democracy figures and groups. And as the subject of U.S. sanctions himself, Lee is unable to hold an account with many of the very banks he was addressing.\n",
      "None of that seems to have dampened the mood at this week’s events, which started on Monday with a fintech conference and conclude this weekend with the return of a major international sporting event, the Rugby Sevens tournament.\n",
      "Iñaki Amate, chairman of the European Chamber of Commerce in Hong Kong, was upbeat about the event and the pro-business atmosphere he encountered. \n",
      "“I have to say how positively surprised I was to see that there was a very good vibe,” Amate said Tuesday as he headed for a tour and welcome dinner at the M+ art museum. “It felt like people came out of a cave with a lot of energy and willing to start doing business again.”\n",
      "The summit is part of a broader campaign to draw both business and tourists back to Hong Kong, an international financial center of 7.3 million that built its reputation as a travel hub and a bastion of freedom in Asia. That image has been tarnished by strict Covid restrictions and the national security law, both cited as reasons for leaving in a mass exodus of residents and expatriates. \n",
      "Despite official efforts, not many people are coming to replace those who have left. According to government statistics, about 319,000 people arrived in Hong Kong last month, down 97% from 10.8 million in October 2019. Companies have reported difficulties recruiting and retaining talent.\n",
      "And even as Hong Kong eases Covid restrictions, bad news keeps coming. The economy shrank 4.5% in the third quarter, extending a recession. Airlines are pulling out of the city, once a global aviation hub. According to a report in September, Hong Kong has lost its status as Asia’s top financial center to Singapore.\n",
      "There are also daily court developments stemming from the 2019 anti-government protests, in which more than 10,000 people have been arrested. In the last two months alone, Hong Kong has put a 90-year-old Roman Catholic cleric on trial over a legal aid fund for protesters; jailed five speech therapists over “seditious” children’s books; jailed two people for sedition after they clapped to support defendants in court; and convicted the democracy activist Jimmy Lai on fraud charges that the United States condemned as “spurious.” \n",
      "More than 200 people, including Lai, have also been arrested under the national security law that Beijing imposed in 2020 in response to the protests. The U.S. has spoken out repeatedly against the law, which criminalized subversion, secession, terrorism and collusion with foreign forces. Hong Kong and Chinese officials say it was necessary to restore stability.\n",
      "While it may not be realistic to expect businesses to turn away from China’s huge market, global business leaders “need to recognize that there’s a new situation in Hong Kong, there’s a new reality,” said Brian Kern, the lead researcher for a report on doing business in Hong Kong that was published last month by the Hong Kong Democracy Council, a nonprofit group based in Washington. \n",
      "The group’s website appears to have been blocked in Hong Kong since shortly after the report’s release.\n",
      "Businesses “need to develop policies and guidelines and due diligence processes so as to guard against perhaps inadvertently doing things that are against the U.N. principles on business and human rights,” Kern said. \n",
      "Officials have indeed seized on the summit as a public relations win for Hong Kong. An article in the Chinese state-backed nationalist tabloid Global Times on Thursday said the gathering “served as a strong rebuttal to the hype and bad-mouthing of the city’s status.”\n",
      "Hong Kong is “not going anywhere” as an international financial center, said Allan Zeman, chairman of the Lan Kwai Fong Group, a Hong Kong-based real estate developer. \n",
      "“If you’re an international bank, you cannot exclu ...\n"
     ]
    }
   ],
   "source": [
    "url = 'https://www.nbcnews.com/news/world/hong-kong-finance-summit-covid-rcna55498'\n",
    "\n",
    "text = scrape_webpage(url)\n",
    "\n",
    "print(text[:5000], '...')"
   ]
  },
  {
   "cell_type": "code",
   "execution_count": 4,
   "id": "29882d4e",
   "metadata": {},
   "outputs": [
    {
     "name": "stdout",
     "output_type": "stream",
     "text": [
      "\n",
      "Sentence examples, original\n",
      "0 \n",
      "Profile\n",
      "Sections\n",
      "tv\n",
      "Featured\n",
      "More From NBC\n",
      "Follow NBC News\n",
      "HONG KONG — After mass unrest in 2019, a pandemic that left it isolated from the world and the imposition of a national security law that has crushed dissent, Hong Kong is ready to turn the page.\n",
      "1 “Social disturbance is clearly in the past,” the city’s leader, John Lee, said Wednesday at the Four Seasons Hotel, where about 200 finance industry executives from around the world were gathered for a summit.\n",
      "2 “It has given way to stability, to growing business and community confidence in Hong Kong’s future.\n",
      "3 Law and order has returned; the worst is behind us.”\n",
      "But the summit — meant to signal that the Chinese territory long known as a regional financial powerhouse is again open for business — has been shadowed by some awkward realities.\n",
      "4 Hong Kong’s border with mainland China, its main economic driver, remains tightly closed because of pandemic restrictions.\n",
      "\n",
      "Sentence count 46\n"
     ]
    }
   ],
   "source": [
    "\n",
    "# Get sentences\n",
    "sentences_original = sent_tokenize(text)\n",
    "print('')\n",
    "print('Sentence examples, original')\n",
    "for i in range(0, 5):\n",
    "  print(i, sentences_original[i])\n",
    "\n",
    "print('')\n",
    "print('Sentence count', len(sentences_original))"
   ]
  },
  {
   "cell_type": "markdown",
   "id": "9bba278b",
   "metadata": {},
   "source": [
    "#### 1.2 PreProcess The Data"
   ]
  },
  {
   "cell_type": "code",
   "execution_count": 5,
   "id": "7da75328",
   "metadata": {},
   "outputs": [
    {
     "name": "stdout",
     "output_type": "stream",
     "text": [
      "\n",
      "Sentence examples, rm cite\n",
      "0 \n",
      "Profile\n",
      "Sections\n",
      "tv\n",
      "Featured\n",
      "More From NBC\n",
      "Follow NBC News\n",
      "HONG KONG — After mass unrest in 2019, a pandemic that left it isolated from the world and the imposition of a national security law that has crushed dissent, Hong Kong is ready to turn the page.\n",
      "1 “Social disturbance is clearly in the past,” the city’s leader, John Lee, said Wednesday at the Four Seasons Hotel, where about 200 finance industry executives from around the world were gathered for a summit.\n",
      "2 “It has given way to stability, to growing business and community confidence in Hong Kong’s future.\n",
      "3 Law and order has returned; the worst is behind us.”\n",
      "But the summit — meant to signal that the Chinese territory long known as a regional financial powerhouse is again open for business — has been shadowed by some awkward realities.\n",
      "4 Hong Kong’s border with mainland China, its main economic driver, remains tightly closed because of pandemic restrictions.\n",
      "\n",
      "Sentence count 46\n"
     ]
    }
   ],
   "source": [
    "sentences = [re.sub('\\[\\d+\\]', ' ', sent) for sent in sentences_original]\n",
    "print('')\n",
    "print('Sentence examples, rm cite')\n",
    "for i in range(0, 5):\n",
    "  print(i, sentences[i])\n",
    "\n",
    "print('')\n",
    "print('Sentence count', len(sentences))"
   ]
  },
  {
   "cell_type": "code",
   "execution_count": 6,
   "id": "16a048e0",
   "metadata": {},
   "outputs": [
    {
     "name": "stdout",
     "output_type": "stream",
     "text": [
      "\n",
      "Sentence examples, lower\n",
      "0 \n",
      "profile\n",
      "sections\n",
      "tv\n",
      "featured\n",
      "more from nbc\n",
      "follow nbc news\n",
      "hong kong — after mass unrest in 2019, a pandemic that left it isolated from the world and the imposition of a national security law that has crushed dissent, hong kong is ready to turn the page.\n",
      "1 “social disturbance is clearly in the past,” the city’s leader, john lee, said wednesday at the four seasons hotel, where about 200 finance industry executives from around the world were gathered for a summit.\n",
      "2 “it has given way to stability, to growing business and community confidence in hong kong’s future.\n",
      "3 law and order has returned; the worst is behind us.”\n",
      "but the summit — meant to signal that the chinese territory long known as a regional financial powerhouse is again open for business — has been shadowed by some awkward realities.\n",
      "4 hong kong’s border with mainland china, its main economic driver, remains tightly closed because of pandemic restrictions.\n",
      "\n",
      "Sentence count 46\n"
     ]
    }
   ],
   "source": [
    "sentences = [sent.lower() for sent in sentences]\n",
    "print('')\n",
    "print('Sentence examples, lower')\n",
    "for i in range(0, 5):\n",
    "  print(i, sentences[i])\n",
    "\n",
    "print('')\n",
    "print('Sentence count', len(sentences))"
   ]
  },
  {
   "cell_type": "code",
   "execution_count": 7,
   "id": "6bad07bc",
   "metadata": {},
   "outputs": [
    {
     "name": "stdout",
     "output_type": "stream",
     "text": [
      "\n",
      "Sentence examples, strip\n",
      "0 profile\n",
      "sections\n",
      "tv\n",
      "featured\n",
      "more from nbc\n",
      "follow nbc news\n",
      "hong kong — after mass unrest in 2019, a pandemic that left it isolated from the world and the imposition of a national security law that has crushed dissent, hong kong is ready to turn the page.\n",
      "1 “social disturbance is clearly in the past,” the city’s leader, john lee, said wednesday at the four seasons hotel, where about 200 finance industry executives from around the world were gathered for a summit.\n",
      "2 “it has given way to stability, to growing business and community confidence in hong kong’s future.\n",
      "3 law and order has returned; the worst is behind us.”\n",
      "but the summit — meant to signal that the chinese territory long known as a regional financial powerhouse is again open for business — has been shadowed by some awkward realities.\n",
      "4 hong kong’s border with mainland china, its main economic driver, remains tightly closed because of pandemic restrictions.\n",
      "\n",
      "Sentence count 46\n"
     ]
    }
   ],
   "source": [
    "sentences = [sent.strip() for sent in sentences]\n",
    "print('')\n",
    "print('Sentence examples, strip')\n",
    "for i in range(0, 5):\n",
    "  print(i, sentences[i])\n",
    "\n",
    "\n",
    "print('')\n",
    "print('Sentence count', len(sentences))"
   ]
  },
  {
   "cell_type": "code",
   "execution_count": 8,
   "id": "a8089307",
   "metadata": {},
   "outputs": [
    {
     "name": "stdout",
     "output_type": "stream",
     "text": [
      "\n",
      "Sentence examples, no punct\n",
      "0 profile\n",
      "sections\n",
      "tv\n",
      "featured\n",
      "more from nbc\n",
      "follow nbc news\n",
      "hong kong   after mass unrest in 2019  a pandemic that left it isolated from the world and the imposition of a national security law that has crushed dissent  hong kong is ready to turn the page \n",
      "1  social disturbance is clearly in the past   the city s leader  john lee  said wednesday at the four seasons hotel  where about 200 finance industry executives from around the world were gathered for a summit \n",
      "2  it has given way to stability  to growing business and community confidence in hong kong s future \n",
      "3 law and order has returned  the worst is behind us  \n",
      "but the summit   meant to signal that the chinese territory long known as a regional financial powerhouse is again open for business   has been shadowed by some awkward realities \n",
      "4 hong kong s border with mainland china  its main economic driver  remains tightly closed because of pandemic restrictions \n",
      "\n",
      "Sentence count 46\n"
     ]
    }
   ],
   "source": [
    "#No punctuations\n",
    "sentences = [re.sub(r'[^\\w\\s]', ' ', sent) for sent in sentences]\n",
    "print('')\n",
    "print('Sentence examples, no punct')\n",
    "for i in range(0, 5):\n",
    "  print(i, sentences[i])\n",
    "\n",
    "print('')\n",
    "print('Sentence count', len(sentences))"
   ]
  },
  {
   "cell_type": "code",
   "execution_count": 9,
   "id": "a9c099b7",
   "metadata": {},
   "outputs": [
    {
     "name": "stdout",
     "output_type": "stream",
     "text": [
      "\n",
      "Sentence examples, len > 0\n",
      "0 ['profile', 'sections', 'tv', 'featured', 'more', 'from', 'nbc', 'follow', 'nbc', 'news', 'hong', 'kong', 'after', 'mass', 'unrest', 'in', '2019', 'a', 'pandemic', 'that', 'left', 'it', 'isolated', 'from', 'the', 'world', 'and', 'the', 'imposition', 'of', 'a', 'national', 'security', 'law', 'that', 'has', 'crushed', 'dissent', 'hong', 'kong', 'is', 'ready', 'to', 'turn', 'the', 'page']\n",
      "1 ['social', 'disturbance', 'is', 'clearly', 'in', 'the', 'past', 'the', 'city', 's', 'leader', 'john', 'lee', 'said', 'wednesday', 'at', 'the', 'four', 'seasons', 'hotel', 'where', 'about', '200', 'finance', 'industry', 'executives', 'from', 'around', 'the', 'world', 'were', 'gathered', 'for', 'a', 'summit']\n",
      "2 ['it', 'has', 'given', 'way', 'to', 'stability', 'to', 'growing', 'business', 'and', 'community', 'confidence', 'in', 'hong', 'kong', 's', 'future']\n",
      "3 ['law', 'and', 'order', 'has', 'returned', 'the', 'worst', 'is', 'behind', 'us', 'but', 'the', 'summit', 'meant', 'to', 'signal', 'that', 'the', 'chinese', 'territory', 'long', 'known', 'as', 'a', 'regional', 'financial', 'powerhouse', 'is', 'again', 'open', 'for', 'business', 'has', 'been', 'shadowed', 'by', 'some', 'awkward', 'realities']\n",
      "4 ['hong', 'kong', 's', 'border', 'with', 'mainland', 'china', 'its', 'main', 'economic', 'driver', 'remains', 'tightly', 'closed', 'because', 'of', 'pandemic', 'restrictions']\n",
      "\n",
      "Sentence count 46\n"
     ]
    }
   ],
   "source": [
    "# tokenising\n",
    "tokens = [word_tokenize(sent) for sent in sentences]\n",
    "print('')\n",
    "print('Sentence examples, len > 0')\n",
    "for i in range(0, 5):\n",
    "  print(i, tokens[i])\n",
    "\n",
    "print('')\n",
    "print('Sentence count', len(tokens))"
   ]
  },
  {
   "cell_type": "code",
   "execution_count": 10,
   "id": "c68ff5a2",
   "metadata": {},
   "outputs": [
    {
     "name": "stdout",
     "output_type": "stream",
     "text": [
      "No of words after lemmatizing: 824\n",
      "Most frequent words:\n"
     ]
    },
    {
     "data": {
      "text/plain": [
       "[('hong', 31),\n",
       " ('kong', 31),\n",
       " ('business', 16),\n",
       " ('said', 14),\n",
       " ('law', 11),\n",
       " ('security', 8),\n",
       " ('national', 7),\n",
       " ('summit', 7),\n",
       " ('china', 7),\n",
       " ('lee', 6)]"
      ]
     },
     "execution_count": 10,
     "metadata": {},
     "output_type": "execute_result"
    }
   ],
   "source": [
    "\n",
    "stop = set(stopwords.words('english'))\n",
    "\n",
    "tokens_flat_1 = [tok for sent in tokens for tok in sent if tok not in stop]\n",
    "\n",
    "lemmatizer = WordNetLemmatizer()\n",
    "lemmatized_words = [lemmatizer.lemmatize(w) for w in tokens_flat_1]\n",
    "lemmatized_words\n",
    "print(\"No of words after lemmatizing:\", len(lemmatized_words))\n",
    "freq_dist = nltk.FreqDist(lemmatized_words)\n",
    "print(\"Most frequent words:\")\n",
    "freq_dist.most_common(10)"
   ]
  },
  {
   "cell_type": "markdown",
   "id": "a8b38c37",
   "metadata": {},
   "source": [
    "#### 1.4 Score the sentences"
   ]
  },
  {
   "cell_type": "code",
   "execution_count": 11,
   "id": "eb86b0af",
   "metadata": {},
   "outputs": [
    {
     "name": "stdout",
     "output_type": "stream",
     "text": [
      "sentence_scores [189, 54, 89, 61, 83, 32, 20, 26, 95, 34, 151, 39, 23, 96, 4, 76, 9, 13, 90, 28, 162, 24, 75, 300, 78, 49, 73, 219, 29, 55, 33, 137, 142, 83, 191, 108, 91, 156, 93, 35, 12, 31, 22, 182, 201, 6]\n",
      "sentence_scores, len 46\n"
     ]
    }
   ],
   "source": [
    "sentence_scores = []\n",
    "for sent in tokens:\n",
    "  sent_score = 0\n",
    "  for tok in sent:\n",
    "    if tok not in stop:\n",
    "      sent_score += freq_dist[tok]\n",
    "  sentence_scores.append(sent_score)\n",
    "\n",
    "print('sentence_scores', sentence_scores)\n",
    "print('sentence_scores, len', len(sentence_scores))\n"
   ]
  },
  {
   "cell_type": "markdown",
   "id": "ff2a2e1c",
   "metadata": {},
   "source": [
    "#### 1.5 Rank the sentences and Text summarization\n"
   ]
  },
  {
   "cell_type": "code",
   "execution_count": 12,
   "id": "9dd19db2",
   "metadata": {},
   "outputs": [
    {
     "name": "stdout",
     "output_type": "stream",
     "text": [
      "Top, preprocess:   [(23, 300, 'while it may not be realistic to expect businesses to turn away from china s huge market  global business leaders  need to recognize that there s a new situation in hong kong  there s a new reality   said brian kern  the lead researcher for a report on doing business in hong kong that was published last month by the hong kong democracy council  a nonprofit group based in washington '), (27, 219, 'an article in the chinese state backed nationalist tabloid global times on thursday said the gathering  served as a strong rebuttal to the hype and bad mouthing of the city s status  \\nhong kong is  not going anywhere  as an international financial center  said allan zeman  chairman of the lan kwai fong group  a hong kong based real estate developer '), (44, 201, ' as long as we remove the travel restrictions  business and leisure travelers are going to come back   said heiwai tang  an economics professor at the university of hong kong   and then we ll be back to normal i would say very quickly  \\njennifer jett is the asia digital editor for nbc news  based in hong kong '), (34, 191, 'lee said hong kong still had strong rule of law and an independent judiciary  emphasizing the  one country  two systems  principle of governance under which hong kong  a former british colony  returned to chinese rule in 1997 '), (0, 189, 'profile\\nsections\\ntv\\nfeatured\\nmore from nbc\\nfollow nbc news\\nhong kong   after mass unrest in 2019  a pandemic that left it isolated from the world and the imposition of a national security law that has crushed dissent  hong kong is ready to turn the page '), (43, 182, 'hong kong s financial secretary  paul chan  was allowed to attend the summit this week despite testing positive for the virus upon his return from saudi arabia  as officials considered him a  recovered case  \\neven hong kong s biggest optimists concede there is a lot of work to be done  namely reopening the border with mainland china '), (20, 162, 'in the last two months alone  hong kong has put a 90 year old roman catholic cleric on trial over a legal aid fund for protesters  jailed five speech therapists over  seditious  children s books  jailed two people for sedition after they clapped to support defendants in court  and convicted the democracy activist jimmy lai on fraud charges that the united states condemned as  spurious  \\xa0\\nmore than 200 people  including lai  have also been arrested under the national security law that beijing imposed in 2020 in response to the protests '), (37, 156, 'but the fraser institute  the canadian think tank that produced the report  noted that hong kong s overall rating had fallen and said its ranking was based on 2020 data and did not reflect  more recent interference from china  \\nwhile keeping relatively quiet on the national security law  businesses have been much more vocal about the covid restrictions and given lee credit for easing them '), (10, 151, ' it felt like people came out of a cave with a lot of energy and willing to start doing business again  \\nthe summit is part of a broader campaign to draw both business and tourists back to hong kong  an international financial center of 7 3 million that built its reputation as a travel hub and a bastion of freedom in asia '), (32, 142, 'last week  hong kong fell out of the top 20 in a global rule of law index compiled by the u s  based nonprofit world justice project  which cited the national security law '), (31, 137, ' business is not about politics  \\xa0\\nkern argued that businesses that assert the national security law isn t meant for them are  playing a bit of a dangerous game  \\n i think that everybody in hong kong needs to worry about it and ask themselves what their relationship is to it and assess the risks involved   he said '), (35, 108, ' hong kong remains the only place in the world where the global advantage and the china advantage come together in a single city   he said '), (13, 96, 'according to government statistics  about 319 000 people arrived in hong kong last month  down 97  from 10 8 million in october 2019 '), (8, 95, 'iñaki amate  chairman of the european chamber of commerce in hong kong  was upbeat about the event and the pro business atmosphere he encountered '), (38, 93, 'many in hong kong breathed a sigh of relief in september  when lee announced an end to mandatory hotel quarantine for overseas arrivals that at one point extended to 21 days '), (36, 91, 'lee also pointed to a report in september in which hong kong topped singapore as the world s freest economy '), (18, 90, 'according to a report in september  hong kong has lost its status as asia s top financial center to singapore '), (2, 89, ' it has given way to stability  to growing business and community confidence in hong kong s future '), (4, 83, 'hong kong s border with mainland china  its main economic driver  remains tightly closed because of pandemic restrictions '), (33, 83, 'officials countered that hong kong is still ranked higher than some western countries  and that it ranked sixth for order and security '), (24, 78, 'the group s website appears to have been blocked in hong kong since shortly after the report s release '), (15, 76, 'and even as hong kong eases covid restrictions  bad news keeps coming '), (22, 75, 'hong kong and chinese officials say it was necessary to restore stability '), (26, 73, 'officials have indeed seized on the summit as a public relations win for hong kong '), (3, 61, 'law and order has returned  the worst is behind us  \\nbut the summit   meant to signal that the chinese territory long known as a regional financial powerhouse is again open for business   has been shadowed by some awkward realities '), (29, 55, 'zeman is among the business leaders who welcomed the national security law after the protests of 2019  which disrupted transportation and sometimes turned violent '), (1, 54, ' social disturbance is clearly in the past   the city s leader  john lee  said wednesday at the four seasons hotel  where about 200 finance industry executives from around the world were gathered for a summit '), (25, 49, 'businesses  need to develop policies and guidelines and due diligence processes so as to guard against perhaps inadvertently doing things that are against the u n  principles on business and human rights   kern said '), (11, 39, 'that image has been tarnished by strict covid restrictions and the national security law  both cited as reasons for leaving in a mass exodus of\\xa0residents and expatriates '), (39, 35, ' we re starting to see more common sense  in the way the government balances covid prevention with economic concerns  amate said '), (9, 34, ' i have to say how positively surprised i was to see that there was a very good vibe   amate said tuesday as he headed for a tour and welcome dinner at the m  art museum '), (30, 33, ' business likes stability   he said '), (5, 32, 'participants in the summit  many of them american companies  have been criticized by rights groups and lawmakers who say they are complicit in china s harsh crackdown on pro democracy figures and groups '), (41, 31, 'though overseas arrivals no longer have to quarantine  they are prohibited from visiting bars and restaurants for the first three days  and those who test positive for the virus may still be sent to government quarantine facilities '), (28, 29, ' if you re an international bank  you cannot exclude china from your mix   he said '), (19, 28, 'there are also daily court developments stemming from the 2019 anti government protests  in which more than 10 000 people have been arrested '), (7, 26, 'none of that seems to have dampened the mood at this week s events  which started on monday with a fintech conference and conclude this weekend with the return of a major international sporting event  the rugby sevens tournament '), (21, 24, 'the u s  has spoken out repeatedly against the law  which criminalized subversion  secession  terrorism and collusion with foreign forces '), (12, 23, 'despite official efforts  not many people are coming to replace those who have left '), (42, 22, 'officials have relaxed some of these rules for the summit attendees  allowing them to visit private dining rooms and leave immediately on their own private jets if they test positive '), (6, 20, 'and as the subject of u s  sanctions himself  lee is unable to hold an account with many of the very banks he was addressing '), (17, 13, 'airlines are pulling out of the city  once a global aviation hub '), (40, 12, 'but other restrictions linger  including a vaccine pass to enter bars and restaurants and compulsory mask wearing even outdoors '), (16, 9, 'the economy shrank 4 5  in the third quarter  extending a recession '), (45, 6, ' \\xa02022 nbc universal'), (14, 4, 'companies have reported difficulties recruiting and retaining talent ')]\n",
      "Top, origial:      While it may not be realistic to expect businesses to turn away from China’s huge market, global business leaders “need to recognize that there’s a new situation in Hong Kong, there’s a new reality,” said Brian Kern, the lead researcher for a report on doing business in Hong Kong that was published last month by the Hong Kong Democracy Council, a nonprofit group based in Washington.\n"
     ]
    }
   ],
   "source": [
    "N = len(sentence_scores)\n",
    "assert len(sentence_scores) == len(sentences)\n",
    "assert len(sentence_scores) == len(sentences_original), f'{len(sentence_scores)} vs {len(sentences_original)}'\n",
    "sentence_pairs = list(zip(range(N), sentence_scores, sentences))\n",
    "sentence_pairs.sort(key = lambda x: x[1], reverse=True)\n",
    "print('Top, preprocess:  ', sentence_pairs)\n",
    "\n",
    "i, score, sent = sentence_pairs[0]\n",
    "print('Top, origial:     ', sentences_original[i])"
   ]
  }
 ],
 "metadata": {
  "kernelspec": {
   "display_name": "Python 3 (ipykernel)",
   "language": "python",
   "name": "python3"
  },
  "language_info": {
   "codemirror_mode": {
    "name": "ipython",
    "version": 3
   },
   "file_extension": ".py",
   "mimetype": "text/x-python",
   "name": "python",
   "nbconvert_exporter": "python",
   "pygments_lexer": "ipython3",
   "version": "3.9.13"
  }
 },
 "nbformat": 4,
 "nbformat_minor": 5
}
